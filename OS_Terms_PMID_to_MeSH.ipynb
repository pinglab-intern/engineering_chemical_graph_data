{
 "cells": [
  {
   "cell_type": "code",
   "execution_count": null,
   "metadata": {},
   "outputs": [],
   "source": [
    "# https://neo4j.com/developer/guide-import-csv/\n",
    "from neo4j import GraphDatabase\n",
    "\n",
    "url = \"bolt://localhost:7687\"\n",
    "\n",
    "# Enter your own password for the second auth argument\n",
    "driver = GraphDatabase.driver(url, auth=(\"neo4j\", \"//////////////////////////////\")) "
   ]
  },
  {
   "cell_type": "code",
   "execution_count": null,
   "metadata": {},
   "outputs": [],
   "source": [
    "def make__all_PMID_nodes(tx): # Load the json file in\n",
    "    tx.run(\"\"\"\n",
    "    CALL apoc.load.json(\"file:///selected_mesh2pmid.json\")\n",
    "    YIELD value\n",
    "    RETURN *\n",
    "    \"\"\")"
   ]
  },
  {
   "cell_type": "code",
   "execution_count": null,
   "metadata": {},
   "outputs": [],
   "source": [
    "def transcription_factors_PMID(tx):\n",
    "    tx.run(\"\"\"\n",
    "    CALL apoc.load.json(\"file:///selected_mesh2pmid.json\")\n",
    "    YIELD value\n",
    "    UNWIND value.transcription_factors AS id\n",
    "    MERGE (p: PMID {pmid: id, mesh_term: 'Transcription Factors'})\n",
    "    MATCH (h:MeSH_Heading {name: 'Transcription Factors'}), (p:PMID {mesh_term: 'Transcription Factors'})\n",
    "    MERGE (h)<-[:MENTIONS]-(p)\n",
    "    \"\"\")"
   ]
  },
  {
   "cell_type": "code",
   "execution_count": null,
   "metadata": {},
   "outputs": [],
   "source": [
    "def nuclear_proteins_PMID(tx):\n",
    "    tx.run(\"\"\"\n",
    "    CALL apoc.load.json(\"file:///selected_mesh2pmid.json\")\n",
    "    YIELD value\n",
    "    UNWIND value.nuclear_proteins AS id\n",
    "    MERGE (p: PMID {pmid: id, mesh_term: 'Nuclear Proteins'})\n",
    "    MATCH (h:MeSH_Heading {name: 'Nuclear Proteins'}), (p:PMID {mesh_term: 'Nuclear Proteins'})\n",
    "    MERGE (h)<-[:MENTIONS]-(p)\n",
    "    \"\"\")"
   ]
  },
  {
   "cell_type": "code",
   "execution_count": null,
   "metadata": {},
   "outputs": [],
   "source": [
    "def ascorbic_acid_PMID(tx):\n",
    "    tx.run(\"\"\"\n",
    "    CALL apoc.load.json(\"file:///selected_mesh2pmid.json\")\n",
    "    YIELD value\n",
    "    UNWIND value.ascorbic_acid AS id\n",
    "    MERGE (p: PMID {pmid: id, mesh_term: 'Ascorbic Acid'})\n",
    "    MATCH (h:MeSH_Heading {name: 'Ascorbic Acid'}), (p:PMID {mesh_term: 'Ascorbic Acid'})\n",
    "    MERGE (h)<-[:MENTIONS]-(p)\n",
    "    \"\"\")"
   ]
  }
 ],
 "metadata": {
  "kernelspec": {
   "display_name": "Python 3",
   "language": "python",
   "name": "python3"
  },
  "language_info": {
   "codemirror_mode": {
    "name": "ipython",
    "version": 3
   },
   "file_extension": ".py",
   "mimetype": "text/x-python",
   "name": "python",
   "nbconvert_exporter": "python",
   "pygments_lexer": "ipython3",
   "version": "3.8.3"
  }
 },
 "nbformat": 4,
 "nbformat_minor": 4
}
